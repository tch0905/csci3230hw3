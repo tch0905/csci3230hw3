{
 "cells": [
  {
   "cell_type": "markdown",
   "id": "7637fb71",
   "metadata": {},
   "source": [
    "# Tutorial 6 - Neural Network\n",
    "\n",
    "## Part B: classification on real world dataset\n",
    "\n",
    "Oct, 2023\n",
    "\n",
    "Yuan Zhong\n",
    "\n",
    "![image](https://upload.wikimedia.org/wikipedia/commons/thumb/c/c6/PyTorch_logo_black.svg/488px-PyTorch_logo_black.svg.png)\n",
    "\n",
    "Official website: https://pytorch.org/get-started/locally/"
   ]
  },
  {
   "cell_type": "markdown",
   "id": "5256c1f7",
   "metadata": {},
   "source": [
    "## Importing The Required Libraries"
   ]
  },
  {
   "cell_type": "code",
   "execution_count": 5,
   "id": "76123517",
   "metadata": {
    "_cell_guid": "8af8cfa0-0559-4d6b-bdcf-ab6b8b47a55a",
    "_uuid": "cde572a2-f445-4215-af1f-2538c6b5d0de",
    "execution": {
     "iopub.execute_input": "2021-07-20T18:25:09.333856Z",
     "iopub.status.busy": "2021-07-20T18:25:09.333105Z",
     "iopub.status.idle": "2021-07-20T18:25:10.411554Z",
     "shell.execute_reply": "2021-07-20T18:25:10.410949Z",
     "shell.execute_reply.started": "2021-07-20T18:22:50.453176Z"
    },
    "jupyter": {
     "outputs_hidden": false
    },
    "papermill": {
     "duration": 1.112622,
     "end_time": "2021-07-20T18:25:10.411683",
     "exception": false,
     "start_time": "2021-07-20T18:25:09.299061",
     "status": "completed"
    },
    "tags": []
   },
   "outputs": [],
   "source": [
    "import numpy as np # linear algebra\n",
    "import pandas as pd # data processing, CSV file I/O (e.g. pd.read_csv)\n",
    "import os\n",
    "\n",
    "import torch\n",
    "import torch.nn as nn\n",
    "import matplotlib.pyplot as plt\n",
    "%matplotlib inline"
   ]
  },
  {
   "cell_type": "code",
   "execution_count": 6,
   "id": "bedf087d",
   "metadata": {
    "_cell_guid": "079121a7-5693-454b-bfde-6177b579f2d0",
    "_uuid": "5afeabe9-2fe7-43ca-b5cb-7deb56a13737",
    "execution": {
     "iopub.execute_input": "2021-07-20T18:25:10.473951Z",
     "iopub.status.busy": "2021-07-20T18:25:10.473296Z",
     "iopub.status.idle": "2021-07-20T18:25:10.485873Z",
     "shell.execute_reply": "2021-07-20T18:25:10.485355Z",
     "shell.execute_reply.started": "2021-07-20T18:22:50.466538Z"
    },
    "jupyter": {
     "outputs_hidden": false
    },
    "papermill": {
     "duration": 0.04584,
     "end_time": "2021-07-20T18:25:10.486019",
     "exception": false,
     "start_time": "2021-07-20T18:25:10.440179",
     "status": "completed"
    },
    "tags": []
   },
   "outputs": [],
   "source": [
    "df1 = pd.read_csv('./data/Iris.csv')"
   ]
  },
  {
   "cell_type": "code",
   "execution_count": 7,
   "id": "463266e8",
   "metadata": {
    "_cell_guid": "d4e04c7a-7753-48e2-818a-6778e2aeeded",
    "_uuid": "f38a34e0-9f1c-410b-9001-dae6ac423287",
    "execution": {
     "iopub.execute_input": "2021-07-20T18:25:10.553522Z",
     "iopub.status.busy": "2021-07-20T18:25:10.552687Z",
     "iopub.status.idle": "2021-07-20T18:25:10.583146Z",
     "shell.execute_reply": "2021-07-20T18:25:10.583642Z",
     "shell.execute_reply.started": "2021-07-20T18:22:50.490322Z"
    },
    "jupyter": {
     "outputs_hidden": false
    },
    "papermill": {
     "duration": 0.068823,
     "end_time": "2021-07-20T18:25:10.583803",
     "exception": false,
     "start_time": "2021-07-20T18:25:10.514980",
     "status": "completed"
    },
    "tags": []
   },
   "outputs": [
    {
     "data": {
      "text/html": [
       "<div>\n",
       "<style scoped>\n",
       "    .dataframe tbody tr th:only-of-type {\n",
       "        vertical-align: middle;\n",
       "    }\n",
       "\n",
       "    .dataframe tbody tr th {\n",
       "        vertical-align: top;\n",
       "    }\n",
       "\n",
       "    .dataframe thead th {\n",
       "        text-align: right;\n",
       "    }\n",
       "</style>\n",
       "<table border=\"1\" class=\"dataframe\">\n",
       "  <thead>\n",
       "    <tr style=\"text-align: right;\">\n",
       "      <th></th>\n",
       "      <th>Id</th>\n",
       "      <th>SepalLengthCm</th>\n",
       "      <th>SepalWidthCm</th>\n",
       "      <th>PetalLengthCm</th>\n",
       "      <th>PetalWidthCm</th>\n",
       "      <th>Species</th>\n",
       "    </tr>\n",
       "  </thead>\n",
       "  <tbody>\n",
       "    <tr>\n",
       "      <th>0</th>\n",
       "      <td>1</td>\n",
       "      <td>5.1</td>\n",
       "      <td>3.5</td>\n",
       "      <td>1.4</td>\n",
       "      <td>0.2</td>\n",
       "      <td>Iris-setosa</td>\n",
       "    </tr>\n",
       "    <tr>\n",
       "      <th>1</th>\n",
       "      <td>2</td>\n",
       "      <td>4.9</td>\n",
       "      <td>3.0</td>\n",
       "      <td>1.4</td>\n",
       "      <td>0.2</td>\n",
       "      <td>Iris-setosa</td>\n",
       "    </tr>\n",
       "    <tr>\n",
       "      <th>2</th>\n",
       "      <td>3</td>\n",
       "      <td>4.7</td>\n",
       "      <td>3.2</td>\n",
       "      <td>1.3</td>\n",
       "      <td>0.2</td>\n",
       "      <td>Iris-setosa</td>\n",
       "    </tr>\n",
       "    <tr>\n",
       "      <th>3</th>\n",
       "      <td>4</td>\n",
       "      <td>4.6</td>\n",
       "      <td>3.1</td>\n",
       "      <td>1.5</td>\n",
       "      <td>0.2</td>\n",
       "      <td>Iris-setosa</td>\n",
       "    </tr>\n",
       "    <tr>\n",
       "      <th>4</th>\n",
       "      <td>5</td>\n",
       "      <td>5.0</td>\n",
       "      <td>3.6</td>\n",
       "      <td>1.4</td>\n",
       "      <td>0.2</td>\n",
       "      <td>Iris-setosa</td>\n",
       "    </tr>\n",
       "  </tbody>\n",
       "</table>\n",
       "</div>"
      ],
      "text/plain": [
       "   Id  SepalLengthCm  SepalWidthCm  PetalLengthCm  PetalWidthCm      Species\n",
       "0   1            5.1           3.5            1.4           0.2  Iris-setosa\n",
       "1   2            4.9           3.0            1.4           0.2  Iris-setosa\n",
       "2   3            4.7           3.2            1.3           0.2  Iris-setosa\n",
       "3   4            4.6           3.1            1.5           0.2  Iris-setosa\n",
       "4   5            5.0           3.6            1.4           0.2  Iris-setosa"
      ]
     },
     "execution_count": 7,
     "metadata": {},
     "output_type": "execute_result"
    }
   ],
   "source": [
    "df1.head()"
   ]
  },
  {
   "cell_type": "markdown",
   "id": "cc4ddd32",
   "metadata": {
    "_cell_guid": "3e29c617-4ae7-4866-bb98-02aca227b294",
    "_uuid": "ce22a238-9f3b-4746-97dc-ff03d43fc73b",
    "papermill": {
     "duration": 0.035531,
     "end_time": "2021-07-20T18:25:10.661755",
     "exception": false,
     "start_time": "2021-07-20T18:25:10.626224",
     "status": "completed"
    },
    "tags": []
   },
   "source": [
    "# Creating A Function To Get The Details of The Dataset"
   ]
  },
  {
   "cell_type": "code",
   "execution_count": 8,
   "id": "9daeed1b",
   "metadata": {
    "_cell_guid": "68331b2b-d42e-4b5b-ad34-99b0a173a37c",
    "_uuid": "9af04a79-fb61-4486-a35f-59d12fd6a213",
    "execution": {
     "iopub.execute_input": "2021-07-20T18:25:10.728113Z",
     "iopub.status.busy": "2021-07-20T18:25:10.727078Z",
     "iopub.status.idle": "2021-07-20T18:25:10.729740Z",
     "shell.execute_reply": "2021-07-20T18:25:10.730222Z",
     "shell.execute_reply.started": "2021-07-20T18:22:50.508459Z"
    },
    "jupyter": {
     "outputs_hidden": false
    },
    "papermill": {
     "duration": 0.038504,
     "end_time": "2021-07-20T18:25:10.730384",
     "exception": false,
     "start_time": "2021-07-20T18:25:10.691880",
     "status": "completed"
    },
    "tags": []
   },
   "outputs": [
    {
     "name": "stdout",
     "output_type": "stream",
     "text": [
      "DATAFRAME GENERAL INFO - \n",
      "\n",
      "<class 'pandas.core.frame.DataFrame'>\n",
      "RangeIndex: 150 entries, 0 to 149\n",
      "Data columns (total 6 columns):\n",
      " #   Column         Non-Null Count  Dtype  \n",
      "---  ------         --------------  -----  \n",
      " 0   Id             150 non-null    int64  \n",
      " 1   SepalLengthCm  150 non-null    float64\n",
      " 2   SepalWidthCm   150 non-null    float64\n",
      " 3   PetalLengthCm  150 non-null    float64\n",
      " 4   PetalWidthCm   150 non-null    float64\n",
      " 5   Species        150 non-null    object \n",
      "dtypes: float64(4), int64(1), object(1)\n",
      "memory usage: 7.2+ KB\n",
      "None \n",
      "\n",
      "DATAFRAME MISSING INFO - \n",
      "\n",
      "Id               0\n",
      "SepalLengthCm    0\n",
      "SepalWidthCm     0\n",
      "PetalLengthCm    0\n",
      "PetalWidthCm     0\n",
      "Species          0\n",
      "dtype: int64 \n",
      "\n",
      "DATAFRAME SHAPE INFO - \n",
      "\n",
      "(150, 6)\n"
     ]
    }
   ],
   "source": [
    "def get_info_dataframe(dataframe):\n",
    "    print(f\"DATAFRAME GENERAL INFO - \\n\")\n",
    "    print(dataframe.info(),\"\\n\")\n",
    "    print(f\"DATAFRAME MISSING INFO - \\n\")\n",
    "    print(dataframe.isnull().sum(),\"\\n\")\n",
    "    print(f\"DATAFRAME SHAPE INFO - \\n\")\n",
    "    print(dataframe.shape)\n",
    "\n",
    "get_info_dataframe(df1)"
   ]
  },
  {
   "cell_type": "code",
   "execution_count": 9,
   "id": "e383b508",
   "metadata": {
    "_cell_guid": "ad808200-a38c-4685-b001-adbfeaa7fe7d",
    "_uuid": "ec5d0735-6139-454c-a0ee-747398756811",
    "execution": {
     "iopub.execute_input": "2021-07-20T18:25:10.875962Z",
     "iopub.status.busy": "2021-07-20T18:25:10.875019Z",
     "iopub.status.idle": "2021-07-20T18:25:10.881301Z",
     "shell.execute_reply": "2021-07-20T18:25:10.881767Z",
     "shell.execute_reply.started": "2021-07-20T18:22:50.542534Z"
    },
    "jupyter": {
     "outputs_hidden": false
    },
    "papermill": {
     "duration": 0.039631,
     "end_time": "2021-07-20T18:25:10.881966",
     "exception": false,
     "start_time": "2021-07-20T18:25:10.842335",
     "status": "completed"
    },
    "tags": []
   },
   "outputs": [
    {
     "data": {
      "text/plain": [
       "array(['Iris-setosa', 'Iris-versicolor', 'Iris-virginica'], dtype=object)"
      ]
     },
     "execution_count": 9,
     "metadata": {},
     "output_type": "execute_result"
    }
   ],
   "source": [
    "df1['Species'].unique()"
   ]
  },
  {
   "cell_type": "markdown",
   "id": "98165e6a",
   "metadata": {
    "_cell_guid": "5fbeecb7-dacd-4410-953f-cd74b28c0bb0",
    "_uuid": "136025b7-1849-4a01-830f-ae638ee39660",
    "papermill": {
     "duration": 0.029059,
     "end_time": "2021-07-20T18:25:10.939440",
     "exception": false,
     "start_time": "2021-07-20T18:25:10.910381",
     "status": "completed"
    },
    "tags": []
   },
   "source": [
    "# LabelEncoding The Attributes of The Target Column"
   ]
  },
  {
   "cell_type": "code",
   "execution_count": 10,
   "id": "b0854fb5",
   "metadata": {
    "_cell_guid": "a46614c4-d2f7-41e3-905d-3c492b698e1f",
    "_uuid": "c739d74d-fc07-481d-834c-d5223c031692",
    "execution": {
     "iopub.execute_input": "2021-07-20T18:25:11.003163Z",
     "iopub.status.busy": "2021-07-20T18:25:11.002215Z",
     "iopub.status.idle": "2021-07-20T18:25:11.007936Z",
     "shell.execute_reply": "2021-07-20T18:25:11.008467Z",
     "shell.execute_reply.started": "2021-07-20T18:22:50.554535Z"
    },
    "jupyter": {
     "outputs_hidden": false
    },
    "papermill": {
     "duration": 0.038407,
     "end_time": "2021-07-20T18:25:11.008625",
     "exception": false,
     "start_time": "2021-07-20T18:25:10.970218",
     "status": "completed"
    },
    "tags": []
   },
   "outputs": [],
   "source": [
    "df1['Species'] = df1['Species'].map({'Iris-setosa':0,'Iris-versicolor':1,'Iris-virginica':2})"
   ]
  },
  {
   "cell_type": "code",
   "execution_count": 11,
   "id": "7907d3df",
   "metadata": {
    "_cell_guid": "f222ba25-ac52-4c0f-b645-fc6fef575d4c",
    "_uuid": "123dab47-86f8-4593-b658-ef4ea3f86538",
    "execution": {
     "iopub.execute_input": "2021-07-20T18:25:11.072718Z",
     "iopub.status.busy": "2021-07-20T18:25:11.071799Z",
     "iopub.status.idle": "2021-07-20T18:25:11.085415Z",
     "shell.execute_reply": "2021-07-20T18:25:11.084780Z",
     "shell.execute_reply.started": "2021-07-20T18:22:50.572186Z"
    },
    "jupyter": {
     "outputs_hidden": false
    },
    "papermill": {
     "duration": 0.047698,
     "end_time": "2021-07-20T18:25:11.085559",
     "exception": false,
     "start_time": "2021-07-20T18:25:11.037861",
     "status": "completed"
    },
    "tags": []
   },
   "outputs": [
    {
     "data": {
      "text/html": [
       "<div>\n",
       "<style scoped>\n",
       "    .dataframe tbody tr th:only-of-type {\n",
       "        vertical-align: middle;\n",
       "    }\n",
       "\n",
       "    .dataframe tbody tr th {\n",
       "        vertical-align: top;\n",
       "    }\n",
       "\n",
       "    .dataframe thead th {\n",
       "        text-align: right;\n",
       "    }\n",
       "</style>\n",
       "<table border=\"1\" class=\"dataframe\">\n",
       "  <thead>\n",
       "    <tr style=\"text-align: right;\">\n",
       "      <th></th>\n",
       "      <th>Id</th>\n",
       "      <th>SepalLengthCm</th>\n",
       "      <th>SepalWidthCm</th>\n",
       "      <th>PetalLengthCm</th>\n",
       "      <th>PetalWidthCm</th>\n",
       "      <th>Species</th>\n",
       "    </tr>\n",
       "  </thead>\n",
       "  <tbody>\n",
       "    <tr>\n",
       "      <th>0</th>\n",
       "      <td>1</td>\n",
       "      <td>5.1</td>\n",
       "      <td>3.5</td>\n",
       "      <td>1.4</td>\n",
       "      <td>0.2</td>\n",
       "      <td>0</td>\n",
       "    </tr>\n",
       "    <tr>\n",
       "      <th>1</th>\n",
       "      <td>2</td>\n",
       "      <td>4.9</td>\n",
       "      <td>3.0</td>\n",
       "      <td>1.4</td>\n",
       "      <td>0.2</td>\n",
       "      <td>0</td>\n",
       "    </tr>\n",
       "    <tr>\n",
       "      <th>2</th>\n",
       "      <td>3</td>\n",
       "      <td>4.7</td>\n",
       "      <td>3.2</td>\n",
       "      <td>1.3</td>\n",
       "      <td>0.2</td>\n",
       "      <td>0</td>\n",
       "    </tr>\n",
       "    <tr>\n",
       "      <th>3</th>\n",
       "      <td>4</td>\n",
       "      <td>4.6</td>\n",
       "      <td>3.1</td>\n",
       "      <td>1.5</td>\n",
       "      <td>0.2</td>\n",
       "      <td>0</td>\n",
       "    </tr>\n",
       "    <tr>\n",
       "      <th>4</th>\n",
       "      <td>5</td>\n",
       "      <td>5.0</td>\n",
       "      <td>3.6</td>\n",
       "      <td>1.4</td>\n",
       "      <td>0.2</td>\n",
       "      <td>0</td>\n",
       "    </tr>\n",
       "  </tbody>\n",
       "</table>\n",
       "</div>"
      ],
      "text/plain": [
       "   Id  SepalLengthCm  SepalWidthCm  PetalLengthCm  PetalWidthCm  Species\n",
       "0   1            5.1           3.5            1.4           0.2        0\n",
       "1   2            4.9           3.0            1.4           0.2        0\n",
       "2   3            4.7           3.2            1.3           0.2        0\n",
       "3   4            4.6           3.1            1.5           0.2        0\n",
       "4   5            5.0           3.6            1.4           0.2        0"
      ]
     },
     "execution_count": 11,
     "metadata": {},
     "output_type": "execute_result"
    }
   ],
   "source": [
    "df1.head()"
   ]
  },
  {
   "cell_type": "code",
   "execution_count": 12,
   "id": "94c6b14d",
   "metadata": {
    "_cell_guid": "d80f75a8-514b-4ead-bb39-026b365c76fc",
    "_uuid": "811b959a-655a-4131-980f-56763a5780fd",
    "execution": {
     "iopub.execute_input": "2021-07-20T18:25:11.150320Z",
     "iopub.status.busy": "2021-07-20T18:25:11.149656Z",
     "iopub.status.idle": "2021-07-20T18:25:11.155536Z",
     "shell.execute_reply": "2021-07-20T18:25:11.154952Z",
     "shell.execute_reply.started": "2021-07-20T18:22:50.596528Z"
    },
    "jupyter": {
     "outputs_hidden": false
    },
    "papermill": {
     "duration": 0.039197,
     "end_time": "2021-07-20T18:25:11.155688",
     "exception": false,
     "start_time": "2021-07-20T18:25:11.116491",
     "status": "completed"
    },
    "tags": []
   },
   "outputs": [],
   "source": [
    "df1.drop(['Id'],axis=1,inplace=True)"
   ]
  },
  {
   "cell_type": "code",
   "execution_count": 13,
   "id": "ee3ca4a1",
   "metadata": {
    "_cell_guid": "f4faa212-d654-4cec-8cf8-17563095038b",
    "_uuid": "026f5f6a-d04e-4767-b17f-1af9ab7216a3",
    "execution": {
     "iopub.execute_input": "2021-07-20T18:25:11.229289Z",
     "iopub.status.busy": "2021-07-20T18:25:11.228684Z",
     "iopub.status.idle": "2021-07-20T18:25:11.231352Z",
     "shell.execute_reply": "2021-07-20T18:25:11.231900Z",
     "shell.execute_reply.started": "2021-07-20T18:22:50.612604Z"
    },
    "jupyter": {
     "outputs_hidden": false
    },
    "papermill": {
     "duration": 0.045474,
     "end_time": "2021-07-20T18:25:11.232051",
     "exception": false,
     "start_time": "2021-07-20T18:25:11.186577",
     "status": "completed"
    },
    "tags": []
   },
   "outputs": [
    {
     "data": {
      "text/html": [
       "<div>\n",
       "<style scoped>\n",
       "    .dataframe tbody tr th:only-of-type {\n",
       "        vertical-align: middle;\n",
       "    }\n",
       "\n",
       "    .dataframe tbody tr th {\n",
       "        vertical-align: top;\n",
       "    }\n",
       "\n",
       "    .dataframe thead th {\n",
       "        text-align: right;\n",
       "    }\n",
       "</style>\n",
       "<table border=\"1\" class=\"dataframe\">\n",
       "  <thead>\n",
       "    <tr style=\"text-align: right;\">\n",
       "      <th></th>\n",
       "      <th>SepalLengthCm</th>\n",
       "      <th>SepalWidthCm</th>\n",
       "      <th>PetalLengthCm</th>\n",
       "      <th>PetalWidthCm</th>\n",
       "      <th>Species</th>\n",
       "    </tr>\n",
       "  </thead>\n",
       "  <tbody>\n",
       "    <tr>\n",
       "      <th>0</th>\n",
       "      <td>5.1</td>\n",
       "      <td>3.5</td>\n",
       "      <td>1.4</td>\n",
       "      <td>0.2</td>\n",
       "      <td>0</td>\n",
       "    </tr>\n",
       "    <tr>\n",
       "      <th>1</th>\n",
       "      <td>4.9</td>\n",
       "      <td>3.0</td>\n",
       "      <td>1.4</td>\n",
       "      <td>0.2</td>\n",
       "      <td>0</td>\n",
       "    </tr>\n",
       "    <tr>\n",
       "      <th>2</th>\n",
       "      <td>4.7</td>\n",
       "      <td>3.2</td>\n",
       "      <td>1.3</td>\n",
       "      <td>0.2</td>\n",
       "      <td>0</td>\n",
       "    </tr>\n",
       "    <tr>\n",
       "      <th>3</th>\n",
       "      <td>4.6</td>\n",
       "      <td>3.1</td>\n",
       "      <td>1.5</td>\n",
       "      <td>0.2</td>\n",
       "      <td>0</td>\n",
       "    </tr>\n",
       "    <tr>\n",
       "      <th>4</th>\n",
       "      <td>5.0</td>\n",
       "      <td>3.6</td>\n",
       "      <td>1.4</td>\n",
       "      <td>0.2</td>\n",
       "      <td>0</td>\n",
       "    </tr>\n",
       "  </tbody>\n",
       "</table>\n",
       "</div>"
      ],
      "text/plain": [
       "   SepalLengthCm  SepalWidthCm  PetalLengthCm  PetalWidthCm  Species\n",
       "0            5.1           3.5            1.4           0.2        0\n",
       "1            4.9           3.0            1.4           0.2        0\n",
       "2            4.7           3.2            1.3           0.2        0\n",
       "3            4.6           3.1            1.5           0.2        0\n",
       "4            5.0           3.6            1.4           0.2        0"
      ]
     },
     "execution_count": 13,
     "metadata": {},
     "output_type": "execute_result"
    }
   ],
   "source": [
    "df1.head()"
   ]
  },
  {
   "cell_type": "code",
   "execution_count": 14,
   "id": "ac262563",
   "metadata": {
    "_cell_guid": "f4e2d8c8-ce22-4c0f-a6ad-c86ad8d31a48",
    "_uuid": "bd32fb86-b85b-4848-af08-56148f117ab2",
    "execution": {
     "iopub.execute_input": "2021-07-20T18:25:11.297375Z",
     "iopub.status.busy": "2021-07-20T18:25:11.296780Z",
     "iopub.status.idle": "2021-07-20T18:25:11.301546Z",
     "shell.execute_reply": "2021-07-20T18:25:11.302127Z",
     "shell.execute_reply.started": "2021-07-20T18:22:50.638693Z"
    },
    "jupyter": {
     "outputs_hidden": false
    },
    "papermill": {
     "duration": 0.038931,
     "end_time": "2021-07-20T18:25:11.302296",
     "exception": false,
     "start_time": "2021-07-20T18:25:11.263365",
     "status": "completed"
    },
    "tags": []
   },
   "outputs": [],
   "source": [
    "X = df1.drop([\"Species\"],axis=1).values\n",
    "y = df1[\"Species\"].values"
   ]
  },
  {
   "cell_type": "code",
   "execution_count": 15,
   "id": "c71a38e7",
   "metadata": {
    "_cell_guid": "13611d31-f4ea-479e-b4e6-838717f7eec7",
    "_uuid": "15c548da-dec4-4dcf-8a41-71fbcfb5f380",
    "execution": {
     "iopub.execute_input": "2021-07-20T18:25:11.367565Z",
     "iopub.status.busy": "2021-07-20T18:25:11.366929Z",
     "iopub.status.idle": "2021-07-20T18:25:12.308090Z",
     "shell.execute_reply": "2021-07-20T18:25:12.307483Z",
     "shell.execute_reply.started": "2021-07-20T18:22:50.646220Z"
    },
    "jupyter": {
     "outputs_hidden": false
    },
    "papermill": {
     "duration": 0.974827,
     "end_time": "2021-07-20T18:25:12.308235",
     "exception": false,
     "start_time": "2021-07-20T18:25:11.333408",
     "status": "completed"
    },
    "tags": []
   },
   "outputs": [],
   "source": [
    "from sklearn.preprocessing import StandardScaler\n",
    "from sklearn.model_selection import train_test_split"
   ]
  },
  {
   "cell_type": "code",
   "execution_count": 16,
   "id": "5ef4333a",
   "metadata": {
    "_cell_guid": "3bc6f2f9-9b29-465c-b51b-2ca5a0eb4616",
    "_uuid": "2c84bc78-06dc-46b8-984f-71232cc55578",
    "execution": {
     "iopub.execute_input": "2021-07-20T18:25:12.374521Z",
     "iopub.status.busy": "2021-07-20T18:25:12.373776Z",
     "iopub.status.idle": "2021-07-20T18:25:12.376769Z",
     "shell.execute_reply": "2021-07-20T18:25:12.376317Z",
     "shell.execute_reply.started": "2021-07-20T18:22:50.660819Z"
    },
    "jupyter": {
     "outputs_hidden": false
    },
    "papermill": {
     "duration": 0.037499,
     "end_time": "2021-07-20T18:25:12.376900",
     "exception": false,
     "start_time": "2021-07-20T18:25:12.339401",
     "status": "completed"
    },
    "tags": []
   },
   "outputs": [],
   "source": [
    "scaler = StandardScaler()"
   ]
  },
  {
   "cell_type": "markdown",
   "id": "debda32f",
   "metadata": {
    "papermill": {
     "duration": 0.03312,
     "end_time": "2021-07-20T18:25:12.440795",
     "exception": false,
     "start_time": "2021-07-20T18:25:12.407675",
     "status": "completed"
    },
    "tags": []
   },
   "source": [
    "# Doing The Train Test Split And Scaling The Data"
   ]
  },
  {
   "cell_type": "code",
   "execution_count": 17,
   "id": "254d5228",
   "metadata": {
    "_cell_guid": "b780843c-d4a8-4e45-b495-a9201f1a0ea7",
    "_uuid": "702cd513-366d-4724-ba6b-c97371bc8a4f",
    "execution": {
     "iopub.execute_input": "2021-07-20T18:25:12.504852Z",
     "iopub.status.busy": "2021-07-20T18:25:12.503949Z",
     "iopub.status.idle": "2021-07-20T18:25:12.508694Z",
     "shell.execute_reply": "2021-07-20T18:25:12.509247Z",
     "shell.execute_reply.started": "2021-07-20T18:22:50.672579Z"
    },
    "jupyter": {
     "outputs_hidden": false
    },
    "papermill": {
     "duration": 0.038533,
     "end_time": "2021-07-20T18:25:12.509399",
     "exception": false,
     "start_time": "2021-07-20T18:25:12.470866",
     "status": "completed"
    },
    "tags": []
   },
   "outputs": [],
   "source": [
    "X_train, X_test, y_train, y_test = train_test_split(X, y, test_size=0.30, random_state=42)"
   ]
  },
  {
   "cell_type": "code",
   "execution_count": 33,
   "id": "4bd2ae1b",
   "metadata": {
    "_cell_guid": "e8f8d8a6-805a-48c1-9058-b34c45c400a5",
    "_uuid": "f610020b-b39f-47a6-a63f-87ea3b2d33f3",
    "execution": {
     "iopub.execute_input": "2021-07-20T18:25:12.573921Z",
     "iopub.status.busy": "2021-07-20T18:25:12.573359Z",
     "iopub.status.idle": "2021-07-20T18:25:12.578410Z",
     "shell.execute_reply": "2021-07-20T18:25:12.577839Z",
     "shell.execute_reply.started": "2021-07-20T18:22:50.687014Z"
    },
    "jupyter": {
     "outputs_hidden": false
    },
    "papermill": {
     "duration": 0.038313,
     "end_time": "2021-07-20T18:25:12.578540",
     "exception": false,
     "start_time": "2021-07-20T18:25:12.540227",
     "status": "completed"
    },
    "tags": []
   },
   "outputs": [
    {
     "name": "stdout",
     "output_type": "stream",
     "text": [
      "(105, 4)\n"
     ]
    }
   ],
   "source": [
    "X_train = scaler.fit_transform(X_train)\n",
    "X_test = scaler.transform(X_test)\n",
    "print(X_train.shape)"
   ]
  },
  {
   "cell_type": "markdown",
   "id": "9a362e78",
   "metadata": {
    "papermill": {
     "duration": 0.031289,
     "end_time": "2021-07-20T18:25:12.639535",
     "exception": false,
     "start_time": "2021-07-20T18:25:12.608246",
     "status": "completed"
    },
    "tags": []
   },
   "source": [
    "# Converting From Numpy Array To Torch Tensor"
   ]
  },
  {
   "cell_type": "code",
   "execution_count": 19,
   "id": "00a84b22",
   "metadata": {
    "_cell_guid": "8e04a541-7524-43fe-9b46-38d2e28c53bf",
    "_uuid": "ad8c9423-839f-47c6-8c95-15a511d1099d",
    "execution": {
     "iopub.execute_input": "2021-07-20T18:25:12.711543Z",
     "iopub.status.busy": "2021-07-20T18:25:12.710870Z",
     "iopub.status.idle": "2021-07-20T18:25:12.727071Z",
     "shell.execute_reply": "2021-07-20T18:25:12.726473Z",
     "shell.execute_reply.started": "2021-07-20T18:22:50.699852Z"
    },
    "jupyter": {
     "outputs_hidden": false
    },
    "papermill": {
     "duration": 0.056827,
     "end_time": "2021-07-20T18:25:12.727196",
     "exception": false,
     "start_time": "2021-07-20T18:25:12.670369",
     "status": "completed"
    },
    "tags": []
   },
   "outputs": [],
   "source": [
    "X_train = torch.FloatTensor(X_train)\n",
    "X_test = torch.FloatTensor(X_test)\n",
    "y_train = torch.LongTensor(y_train)\n",
    "y_test = torch.LongTensor(y_test)"
   ]
  },
  {
   "cell_type": "markdown",
   "id": "2b057ee7",
   "metadata": {
    "papermill": {
     "duration": 0.029495,
     "end_time": "2021-07-20T18:25:12.786179",
     "exception": false,
     "start_time": "2021-07-20T18:25:12.756684",
     "status": "completed"
    },
    "tags": []
   },
   "source": [
    "# Creating Our Neural Network Model For Classification"
   ]
  },
  {
   "cell_type": "code",
   "execution_count": 20,
   "id": "e11761e6",
   "metadata": {
    "_cell_guid": "0a4541eb-bde5-4fd7-8fbc-2d6ee529c2ba",
    "_uuid": "7be16122-048c-4dd4-8e72-bc066ac486fe",
    "execution": {
     "iopub.execute_input": "2021-07-20T18:25:12.853958Z",
     "iopub.status.busy": "2021-07-20T18:25:12.852800Z",
     "iopub.status.idle": "2021-07-20T18:25:12.855521Z",
     "shell.execute_reply": "2021-07-20T18:25:12.856013Z",
     "shell.execute_reply.started": "2021-07-20T18:22:50.711053Z"
    },
    "jupyter": {
     "outputs_hidden": false
    },
    "papermill": {
     "duration": 0.039635,
     "end_time": "2021-07-20T18:25:12.856166",
     "exception": false,
     "start_time": "2021-07-20T18:25:12.816531",
     "status": "completed"
    },
    "tags": []
   },
   "outputs": [],
   "source": [
    "class NeuralNetworkClassificationModel(nn.Module):\n",
    "    def __init__(self,input_dim,output_dim):\n",
    "        super(NeuralNetworkClassificationModel,self).__init__()\n",
    "        self.input_layer    = nn.Linear(input_dim,128)\n",
    "        self.hidden_layer1  = nn.Linear(128,64)\n",
    "        self.output_layer   = nn.Linear(64,output_dim)\n",
    "        self.relu = nn.ReLU()\n",
    "    \n",
    "    \n",
    "    def forward(self,x):\n",
    "        out =  self.relu(self.input_layer(x))\n",
    "        out =  self.relu(self.hidden_layer1(out))\n",
    "        out =  self.output_layer(out)\n",
    "        return out"
   ]
  },
  {
   "cell_type": "code",
   "execution_count": 21,
   "id": "81dd1cd5",
   "metadata": {
    "_cell_guid": "7d5910e3-efe5-4b33-91f2-13cad14d65fa",
    "_uuid": "066d7bca-76ee-4223-b77d-1fa5076a818e",
    "execution": {
     "iopub.execute_input": "2021-07-20T18:25:12.923826Z",
     "iopub.status.busy": "2021-07-20T18:25:12.923247Z",
     "iopub.status.idle": "2021-07-20T18:25:12.930164Z",
     "shell.execute_reply": "2021-07-20T18:25:12.929702Z",
     "shell.execute_reply.started": "2021-07-20T18:22:50.725163Z"
    },
    "jupyter": {
     "outputs_hidden": false
    },
    "papermill": {
     "duration": 0.044541,
     "end_time": "2021-07-20T18:25:12.930315",
     "exception": false,
     "start_time": "2021-07-20T18:25:12.885774",
     "status": "completed"
    },
    "tags": []
   },
   "outputs": [],
   "source": [
    "# input_dim = 4 because we have 4 inputs namely sepal_length,sepal_width,petal_length,petal_width\n",
    "# output_dim = 3 because we have namely 3 categories setosa,versicolor and virginica\n",
    "input_dim  = 4 \n",
    "output_dim = 3\n",
    "model = NeuralNetworkClassificationModel(input_dim,output_dim)"
   ]
  },
  {
   "cell_type": "code",
   "execution_count": 22,
   "id": "f1ea0563",
   "metadata": {
    "_cell_guid": "516cd875-5679-4183-a316-402ffd58a688",
    "_uuid": "85f761ac-d238-4082-9817-f3f50f56bd3a",
    "execution": {
     "iopub.execute_input": "2021-07-20T18:25:12.995060Z",
     "iopub.status.busy": "2021-07-20T18:25:12.994399Z",
     "iopub.status.idle": "2021-07-20T18:25:12.996215Z",
     "shell.execute_reply": "2021-07-20T18:25:12.996661Z",
     "shell.execute_reply.started": "2021-07-20T18:22:50.735425Z"
    },
    "jupyter": {
     "outputs_hidden": false
    },
    "papermill": {
     "duration": 0.036746,
     "end_time": "2021-07-20T18:25:12.996816",
     "exception": false,
     "start_time": "2021-07-20T18:25:12.960070",
     "status": "completed"
    },
    "tags": []
   },
   "outputs": [],
   "source": [
    "# creating our optimizer and loss function object\n",
    "learning_rate = 0.01\n",
    "criterion = nn.CrossEntropyLoss()\n",
    "optimizer = torch.optim.Adam(model.parameters(),lr=learning_rate)"
   ]
  },
  {
   "cell_type": "code",
   "execution_count": 24,
   "id": "30eb5237",
   "metadata": {
    "_cell_guid": "7e49f67e-a267-4b30-ae52-63bc81d3dcd5",
    "_uuid": "8c1d977d-fb09-4976-b45e-6eec4cdcf6a9",
    "execution": {
     "iopub.execute_input": "2021-07-20T18:25:13.062341Z",
     "iopub.status.busy": "2021-07-20T18:25:13.061686Z",
     "iopub.status.idle": "2021-07-20T18:25:13.068345Z",
     "shell.execute_reply": "2021-07-20T18:25:13.068779Z",
     "shell.execute_reply.started": "2021-07-20T18:22:50.746804Z"
    },
    "jupyter": {
     "outputs_hidden": false
    },
    "papermill": {
     "duration": 0.040932,
     "end_time": "2021-07-20T18:25:13.068956",
     "exception": false,
     "start_time": "2021-07-20T18:25:13.028024",
     "status": "completed"
    },
    "tags": []
   },
   "outputs": [],
   "source": [
    "def train_network(model,optimizer,criterion,X_train,y_train,X_test,y_test,num_epochs,train_losses,test_losses):\n",
    "    for epoch in range(num_epochs):\n",
    "        #clear out the gradients from the last step loss.backward()\n",
    "        optimizer.zero_grad()\n",
    "        \n",
    "        #forward feed\n",
    "        output_train = model(X_train)\n",
    "\n",
    "        #calculate the loss\n",
    "        loss_train = criterion(output_train, y_train)\n",
    "        \n",
    "        #backward propagation: calculate gradients\n",
    "        loss_train.backward()\n",
    "\n",
    "        #update the weights\n",
    "        optimizer.step()\n",
    "\n",
    "        \n",
    "        output_test = model(X_test)\n",
    "        loss_test = criterion(output_test,y_test)\n",
    "\n",
    "        train_losses[epoch] = loss_train.item()\n",
    "        test_losses[epoch] = loss_test.item()\n",
    "\n",
    "        if (epoch + 1) % 50 == 0:\n",
    "            print(f\"Epoch {epoch+1}/{num_epochs}, Train Loss: {loss_train.item():.4f}, Test Loss: {loss_test.item():.4f}\")"
   ]
  },
  {
   "cell_type": "code",
   "execution_count": 25,
   "id": "ef78b5c4",
   "metadata": {
    "_cell_guid": "6b1fb37d-e685-41e9-ac5c-c4a7a9bf2805",
    "_uuid": "4a80c1af-a548-4830-8b68-f9ce77f863d4",
    "execution": {
     "iopub.execute_input": "2021-07-20T18:25:13.132097Z",
     "iopub.status.busy": "2021-07-20T18:25:13.131490Z",
     "iopub.status.idle": "2021-07-20T18:25:13.135305Z",
     "shell.execute_reply": "2021-07-20T18:25:13.135739Z",
     "shell.execute_reply.started": "2021-07-20T18:22:50.763020Z"
    },
    "jupyter": {
     "outputs_hidden": false
    },
    "papermill": {
     "duration": 0.036826,
     "end_time": "2021-07-20T18:25:13.135901",
     "exception": false,
     "start_time": "2021-07-20T18:25:13.099075",
     "status": "completed"
    },
    "tags": []
   },
   "outputs": [],
   "source": [
    "num_epochs = 1000\n",
    "train_losses = np.zeros(num_epochs)\n",
    "test_losses  = np.zeros(num_epochs)"
   ]
  },
  {
   "cell_type": "code",
   "execution_count": 26,
   "id": "8ab3042a",
   "metadata": {
    "_cell_guid": "67b5f88a-b8a6-4e2e-86ac-986cc952498e",
    "_uuid": "2dbb9a3c-3d13-49b2-b978-1bd3107d72cb",
    "execution": {
     "iopub.execute_input": "2021-07-20T18:25:13.202209Z",
     "iopub.status.busy": "2021-07-20T18:25:13.201550Z",
     "iopub.status.idle": "2021-07-20T18:25:14.981293Z",
     "shell.execute_reply": "2021-07-20T18:25:14.980769Z",
     "shell.execute_reply.started": "2021-07-20T18:22:50.774926Z"
    },
    "jupyter": {
     "outputs_hidden": false
    },
    "papermill": {
     "duration": 1.814088,
     "end_time": "2021-07-20T18:25:14.981419",
     "exception": false,
     "start_time": "2021-07-20T18:25:13.167331",
     "status": "completed"
    },
    "tags": []
   },
   "outputs": [
    {
     "name": "stdout",
     "output_type": "stream",
     "text": [
      "Epoch 50/1000, Train Loss: 0.0318, Test Loss: 0.0034\n",
      "Epoch 100/1000, Train Loss: 0.0018, Test Loss: 0.0875\n",
      "Epoch 150/1000, Train Loss: 0.0004, Test Loss: 0.0757\n",
      "Epoch 200/1000, Train Loss: 0.0002, Test Loss: 0.0818\n",
      "Epoch 250/1000, Train Loss: 0.0001, Test Loss: 0.0851\n",
      "Epoch 300/1000, Train Loss: 0.0001, Test Loss: 0.0878\n",
      "Epoch 350/1000, Train Loss: 0.0001, Test Loss: 0.0877\n",
      "Epoch 400/1000, Train Loss: 0.0001, Test Loss: 0.0894\n",
      "Epoch 450/1000, Train Loss: 0.0000, Test Loss: 0.0894\n",
      "Epoch 500/1000, Train Loss: 0.0000, Test Loss: 0.0899\n",
      "Epoch 550/1000, Train Loss: 0.0000, Test Loss: 0.0902\n",
      "Epoch 600/1000, Train Loss: 0.0000, Test Loss: 0.0905\n",
      "Epoch 650/1000, Train Loss: 0.0000, Test Loss: 0.0908\n",
      "Epoch 700/1000, Train Loss: 0.0000, Test Loss: 0.0911\n",
      "Epoch 750/1000, Train Loss: 0.0000, Test Loss: 0.0911\n",
      "Epoch 800/1000, Train Loss: 0.0000, Test Loss: 0.0909\n",
      "Epoch 850/1000, Train Loss: 0.0000, Test Loss: 0.0910\n",
      "Epoch 900/1000, Train Loss: 0.0000, Test Loss: 0.0909\n",
      "Epoch 950/1000, Train Loss: 0.0000, Test Loss: 0.0909\n",
      "Epoch 1000/1000, Train Loss: 0.0000, Test Loss: 0.0908\n"
     ]
    }
   ],
   "source": [
    "train_network(model,optimizer,criterion,X_train,y_train,X_test,y_test,num_epochs,train_losses,test_losses)"
   ]
  },
  {
   "cell_type": "code",
   "execution_count": 27,
   "id": "a70f6038",
   "metadata": {
    "_cell_guid": "09514869-9b65-4631-9174-2222c3a5f460",
    "_uuid": "1e60e86d-ff1c-45d1-87e0-350260c6a601",
    "execution": {
     "iopub.execute_input": "2021-07-20T18:25:15.068405Z",
     "iopub.status.busy": "2021-07-20T18:25:15.067799Z",
     "iopub.status.idle": "2021-07-20T18:25:15.344872Z",
     "shell.execute_reply": "2021-07-20T18:25:15.344233Z",
     "shell.execute_reply.started": "2021-07-20T18:22:52.486679Z"
    },
    "jupyter": {
     "outputs_hidden": false
    },
    "papermill": {
     "duration": 0.331028,
     "end_time": "2021-07-20T18:25:15.345024",
     "exception": false,
     "start_time": "2021-07-20T18:25:15.013996",
     "status": "completed"
    },
    "tags": []
   },
   "outputs": [
    {
     "data": {
      "image/png": "[encoded data removed]",
      "text/plain": [
       "<Figure size 1000x1000 with 1 Axes>"
      ]
     },
     "metadata": {},
     "output_type": "display_data"
    }
   ],
   "source": [
    "plt.figure(figsize=(10,10))\n",
    "plt.plot(train_losses, label='train loss')\n",
    "plt.plot(test_losses, label='test loss')\n",
    "plt.legend()\n",
    "plt.show()"
   ]
  },
  {
   "cell_type": "code",
   "execution_count": 28,
   "id": "a8afbb75",
   "metadata": {
    "_cell_guid": "d5feec25-0c3a-48f5-9372-39d68c45710d",
    "_uuid": "d7687301-5807-48da-a5a0-1bb3d6a4d93d",
    "execution": {
     "iopub.execute_input": "2021-07-20T18:25:15.416083Z",
     "iopub.status.busy": "2021-07-20T18:25:15.415388Z",
     "iopub.status.idle": "2021-07-20T18:25:15.418074Z",
     "shell.execute_reply": "2021-07-20T18:25:15.417429Z",
     "shell.execute_reply.started": "2021-07-20T18:22:52.673155Z"
    },
    "jupyter": {
     "outputs_hidden": false
    },
    "papermill": {
     "duration": 0.039797,
     "end_time": "2021-07-20T18:25:15.418212",
     "exception": false,
     "start_time": "2021-07-20T18:25:15.378415",
     "status": "completed"
    },
    "tags": []
   },
   "outputs": [],
   "source": [
    "predictions_train = []\n",
    "predictions_test =  []\n",
    "with torch.no_grad():\n",
    "    predictions_train = model(X_train)\n",
    "    predictions_test = model(X_test)"
   ]
  },
  {
   "cell_type": "code",
   "execution_count": 29,
   "id": "b9f8b082",
   "metadata": {
    "execution": {
     "iopub.execute_input": "2021-07-20T18:25:15.489774Z",
     "iopub.status.busy": "2021-07-20T18:25:15.489190Z",
     "iopub.status.idle": "2021-07-20T18:25:15.492143Z",
     "shell.execute_reply": "2021-07-20T18:25:15.491689Z",
     "shell.execute_reply.started": "2021-07-20T18:22:52.680731Z"
    },
    "papermill": {
     "duration": 0.038871,
     "end_time": "2021-07-20T18:25:15.492276",
     "exception": false,
     "start_time": "2021-07-20T18:25:15.453405",
     "status": "completed"
    },
    "tags": []
   },
   "outputs": [],
   "source": [
    "# Check how the predicted outputs look like and after taking argmax compare with y_train or y_test \n",
    "#predictions_train  \n",
    "#y_train,y_test"
   ]
  },
  {
   "cell_type": "code",
   "execution_count": 30,
   "id": "eebdf7cb",
   "metadata": {
    "_cell_guid": "a1482815-9663-40a3-9862-74629256a354",
    "_uuid": "02d8e76a-b8a1-421c-a700-a37b7a39d6da",
    "execution": {
     "iopub.execute_input": "2021-07-20T18:25:15.565170Z",
     "iopub.status.busy": "2021-07-20T18:25:15.564553Z",
     "iopub.status.idle": "2021-07-20T18:25:15.566815Z",
     "shell.execute_reply": "2021-07-20T18:25:15.567288Z",
     "shell.execute_reply.started": "2021-07-20T18:22:52.691763Z"
    },
    "jupyter": {
     "outputs_hidden": false
    },
    "papermill": {
     "duration": 0.041993,
     "end_time": "2021-07-20T18:25:15.567440",
     "exception": false,
     "start_time": "2021-07-20T18:25:15.525447",
     "status": "completed"
    },
    "tags": []
   },
   "outputs": [],
   "source": [
    "def get_accuracy_multiclass(pred_arr,original_arr):\n",
    "    if len(pred_arr)!=len(original_arr):\n",
    "        return False\n",
    "    pred_arr = pred_arr.numpy()\n",
    "    original_arr = original_arr.numpy()\n",
    "    final_pred= []\n",
    "    # we will get something like this in the pred_arr [32.1680,12.9350,-58.4877]\n",
    "    # so will be taking the index of that argument which has the highest value here 32.1680 which corresponds to 0th index\n",
    "    for i in range(len(pred_arr)):\n",
    "        final_pred.append(np.argmax(pred_arr[i]))\n",
    "    final_pred = np.array(final_pred)\n",
    "    count = 0\n",
    "    #here we are doing a simple comparison between the predicted_arr and the original_arr to get the final accuracy\n",
    "    for i in range(len(original_arr)):\n",
    "        if final_pred[i] == original_arr[i]:\n",
    "            count+=1\n",
    "    return count/len(final_pred)"
   ]
  },
  {
   "cell_type": "code",
   "execution_count": 31,
   "id": "cd50d21c",
   "metadata": {
    "_cell_guid": "e0821662-7223-4473-9ab4-0baae47c57be",
    "_uuid": "29382db4-2926-4c29-8a21-02b3236904c2",
    "execution": {
     "iopub.execute_input": "2021-07-20T18:25:15.635874Z",
     "iopub.status.busy": "2021-07-20T18:25:15.635313Z",
     "iopub.status.idle": "2021-07-20T18:25:15.639791Z",
     "shell.execute_reply": "2021-07-20T18:25:15.639320Z",
     "shell.execute_reply.started": "2021-07-20T18:22:52.705617Z"
    },
    "jupyter": {
     "outputs_hidden": false
    },
    "papermill": {
     "duration": 0.040692,
     "end_time": "2021-07-20T18:25:15.639926",
     "exception": false,
     "start_time": "2021-07-20T18:25:15.599234",
     "status": "completed"
    },
    "tags": []
   },
   "outputs": [],
   "source": [
    "train_acc = get_accuracy_multiclass(predictions_train,y_train)\n",
    "test_acc  = get_accuracy_multiclass(predictions_test,y_test)"
   ]
  },
  {
   "cell_type": "code",
   "execution_count": 32,
   "id": "3f91b89d",
   "metadata": {
    "_cell_guid": "19fc14c5-bb9c-4988-90f7-87c94f8d9694",
    "_uuid": "07c02b8a-5044-4f5e-b610-1524495974ca",
    "execution": {
     "iopub.execute_input": "2021-07-20T18:25:15.710460Z",
     "iopub.status.busy": "2021-07-20T18:25:15.709836Z",
     "iopub.status.idle": "2021-07-20T18:25:15.713992Z",
     "shell.execute_reply": "2021-07-20T18:25:15.714389Z",
     "shell.execute_reply.started": "2021-07-20T18:22:52.840032Z"
    },
    "jupyter": {
     "outputs_hidden": false
    },
    "papermill": {
     "duration": 0.041462,
     "end_time": "2021-07-20T18:25:15.714529",
     "exception": false,
     "start_time": "2021-07-20T18:25:15.673067",
     "status": "completed"
    },
    "tags": []
   },
   "outputs": [
    {
     "name": "stdout",
     "output_type": "stream",
     "text": [
      "Training Accuracy: 100.0\n",
      "Test Accuracy: 97.778\n"
     ]
    }
   ],
   "source": [
    "print(f\"Training Accuracy: {round(train_acc*100,3)}\")\n",
    "print(f\"Test Accuracy: {round(test_acc*100,3)}\")"
   ]
  }
 ],
 "metadata": {
  "kernelspec": {
   "display_name": "Python 3 (ipykernel)",
   "language": "python",
   "name": "python3"
  },
  "language_info": {
   "codemirror_mode": {
    "name": "ipython",
    "version": 3
   },
   "file_extension": ".py",
   "mimetype": "text/x-python",
   "name": "python",
   "nbconvert_exporter": "python",
   "pygments_lexer": "ipython3",
   "version": "3.9.16"
  },
  "papermill": {
   "default_parameters": {},
   "duration": 15.730891,
   "end_time": "2021-07-20T18:25:17.340876",
   "environment_variables": {},
   "exception": null,
   "input_path": "__notebook__.ipynb",
   "output_path": "__notebook__.ipynb",
   "parameters": {},
   "start_time": "2021-07-20T18:25:01.609985",
   "version": "2.3.3"
  },
  "vscode": {
   "interpreter": {
    "hash": "9e2ea4d5003612e8881e16469ba5f40014ea329ead3acac822695c4d42fe8b69"
   }
  }
 },
 "nbformat": 4,
 "nbformat_minor": 5
}
